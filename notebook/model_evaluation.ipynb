{
 "cells": [
  {
   "cell_type": "code",
   "execution_count": null,
   "metadata": {},
   "outputs": [],
   "source": [
    "import pandas as pd\n",
    "import joblib\n",
    "from sklearn.metrics import mean_absolute_error\n",
    "\n",
    "# Load the data and model\n",
    "data = pd.read_csv('../data/processed_train.csv')\n",
    "model = joblib.load('../models/sales_forecast_model.pkl')\n",
    "\n",
    "# Evaluate the model\n",
    "X = data.drop(columns=['Weekly_Sales'])\n",
    "y = data['Weekly_Sales']\n",
    "predictions = model.predict(X)\n",
    "mae = mean_absolute_error(y, predictions)\n",
    "print(f'Mean Absolute Error: {mae}')"
   ]
  }
 ],
 "metadata": {
  "kernelspec": {
   "display_name": "Python 3",
   "language": "python",
   "name": "python3"
  },
  "language_info": {
   "name": "python",
   "version": "3.12.1"
  }
 },
 "nbformat": 4,
 "nbformat_minor": 2
}
